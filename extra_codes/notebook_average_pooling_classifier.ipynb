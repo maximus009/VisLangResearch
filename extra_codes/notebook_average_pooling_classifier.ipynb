{
 "cells": [
  {
   "cell_type": "code",
   "execution_count": 1,
   "metadata": {
    "collapsed": true
   },
   "outputs": [],
   "source": [
    "import numpy as np\n",
    "import os, sys\n",
    "base_path = os.getcwd()\n",
    "if not os.path.basename(base_path) == 'moviescope':\n",
    "    base_path = os.path.join(base_path, '..')\n",
    "\n",
    "from utils import load_pkl, get_labels, get_ids, dump_pkl\n",
    "from evaluations import find_precision_recall"
   ]
  },
  {
   "cell_type": "code",
   "execution_count": 2,
   "metadata": {
    "collapsed": false
   },
   "outputs": [
    {
     "name": "stdout",
     "output_type": "stream",
     "text": [
      "Loading data from /net/if2/ks6cq/public_html/moviescope/data/labels/trainLabels.p\n",
      "Loading data from /net/if2/ks6cq/public_html/moviescope/data/labels/valLabels.p\n",
      "Loading data from /net/if2/ks6cq/public_html/moviescope/data/labels/testLabels.p\n",
      "Loading data from /net/if2/ks6cq/public_html/moviescope/data/index/trainIds.p\n",
      "Loading data from /net/if2/ks6cq/public_html/moviescope/data/index/valIds.p\n",
      "Loading data from /net/if2/ks6cq/public_html/moviescope/data/index/testIds.p\n",
      "(3454, 13)\n",
      "(491, 13)\n",
      "(989, 13)\n",
      "3454\n",
      "491\n",
      "989\n"
     ]
    }
   ],
   "source": [
    "num_genres = 13\n",
    "featureName = 'vgg'\n",
    "featuresPath = os.path.join(base_path, 'data','frameFeatures','{}Features'.format(featureName))\n",
    "\n",
    "trainLabels, valLabels, testLabels = get_labels()\n",
    "trainIds, valIds, testIds = get_ids()\n",
    "\n",
    "print trainLabels.shape\n",
    "print valLabels.shape\n",
    "print testLabels.shape\n",
    "\n",
    "print len(trainIds)\n",
    "print len(valIds)\n",
    "print len(testIds)"
   ]
  },
  {
   "cell_type": "code",
   "execution_count": 3,
   "metadata": {
    "collapsed": true
   },
   "outputs": [],
   "source": [
    "def avg_frames(ID):\n",
    "\n",
    "    ID = str(ID)\n",
    "    pklPath = os.path.join(featuresPath, ID+'.p')\n",
    "    data = load_pkl(pklPath, verbose=False)\n",
    "    avg = np.mean(data, axis=0)\n",
    "    return avg"
   ]
  },
  {
   "cell_type": "code",
   "execution_count": 4,
   "metadata": {
    "collapsed": false
   },
   "outputs": [],
   "source": [
    "outPath = os.path.join('data', 'inputFeatures', 'average')\n",
    "\n",
    "if not os.path.exists(outPath):\n",
    "    os.makedirs(outPath)\n",
    "    \n",
    "if os.path.exists(os.path.join(outPath, 'train.p')):\n",
    "    print 'train.p already exists. Rerun and Overwrite?'\n",
    "    if raw_input().lower() in ['y','yes']:\n",
    "        x_train = np.array([avg_frames(ID) for ID in trainIds])\n",
    "        x_val = np.array([avg_frames(ID) for ID in valIds])\n",
    "        x_test = np.array([avg_frames(ID) for ID in testIds])\n",
    "\n",
    "        dump_pkl(x_train, os.path.join(outPath,'train.p'))\n",
    "        dump_pkl(x_val, os.path.join(outPath,'val.p'))\n",
    "        dump_pkl(x_test, os.path.join(outPath,'test.p'))\n",
    "    else:\n",
    "        x_train = load_pkl(os.path.join(outPath,'train.p'))\n",
    "        x_val = load_pkl(os.path.join(outPath,'val.p'))\n",
    "        x_test = load_pkl(os.path.join(outPath,'test.p')))"
   ]
  },
  {
   "cell_type": "code",
   "execution_count": null,
   "metadata": {
    "collapsed": true
   },
   "outputs": [],
   "source": [
    "import os, sys\n",
    "base_path = os.getcwd()\n",
    "if not os.path.basename(base_path) == 'moviescope':\n",
    "    base_path = os.path.join(base_path, '..')\n",
    "sys.path.append(base_path)"
   ]
  },
  {
   "cell_type": "code",
   "execution_count": 27,
   "metadata": {
    "collapsed": true
   },
   "outputs": [],
   "source": [
    "sys.path.insert(0, '/net/if2/ks6cq/public_html/vqa/keras2/local/lib/python2.7/site-packages/*')"
   ]
  },
  {
   "cell_type": "code",
   "execution_count": 28,
   "metadata": {
    "collapsed": false
   },
   "outputs": [
    {
     "data": {
      "text/plain": [
       "['/net/if2/ks6cq/public_html/vqa/keras2/local/lib/python2.7/site-packages/*',\n",
       " '/net/if2/ks6cq/public_html/vqa/keras2/local/lib/python2.7/site-packages/keras/utils/',\n",
       " '/net/if2/ks6cq/public_html/vqa/keras2/local/lib/python2.7/site-packages/keras/utils/',\n",
       " '/net/if2/ks6cq/public_html/vqa/keras2/local/lib/python2.7/site-packages/keras/',\n",
       " '/net/if2/ks6cq/public_html/vqa/keras2/local/lib/python2.7/site-packages',\n",
       " '/net/if2/ks6cq/public_html/vqa/keras2/local/lib/python2.7/site-packages/',\n",
       " '/net/if2/ks6cq/public_html/vqa/keras2/local/lib/python2.7/site-packages/xgboost-0.6-py2.7.egg',\n",
       " '/net/if2/ks6cq/public_html/vqa/keras2/local/lib/python2.7/site-packages/xgboost-0.6-py2.7.egg',\n",
       " '',\n",
       " '/if2/ks6cq/anaconda2/lib/python27.zip',\n",
       " '/if2/ks6cq/anaconda2/lib/python2.7',\n",
       " '/if2/ks6cq/anaconda2/lib/python2.7/plat-linux2',\n",
       " '/if2/ks6cq/anaconda2/lib/python2.7/lib-tk',\n",
       " '/if2/ks6cq/anaconda2/lib/python2.7/lib-old',\n",
       " '/if2/ks6cq/anaconda2/lib/python2.7/lib-dynload',\n",
       " '/if2/ks6cq/anaconda2/lib/python2.7/site-packages',\n",
       " '/if2/ks6cq/anaconda2/lib/python2.7/site-packages/Sphinx-1.5.1-py2.7.egg',\n",
       " '/if2/ks6cq/anaconda2/lib/python2.7/site-packages/IPython/extensions',\n",
       " '/net/if2/ks6cq/.ipython',\n",
       " '/net/if2/ks6cq/public_html/moviescope',\n",
       " '/net/if2/ks6cq/public_html/moviescope',\n",
       " '/net/if2/ks6cq/public_html/moviescope',\n",
       " '/net/if2/ks6cq/public_html/moviescope',\n",
       " '/net/if2/ks6cq/public_html/moviescope',\n",
       " '/net/if2/ks6cq/public_html/moviescope',\n",
       " '/net/if2/ks6cq/public_html/moviescope']"
      ]
     },
     "execution_count": 28,
     "metadata": {},
     "output_type": "execute_result"
    }
   ],
   "source": [
    "sys.path"
   ]
  },
  {
   "cell_type": "code",
   "execution_count": 29,
   "metadata": {
    "collapsed": false
   },
   "outputs": [
    {
     "ename": "ImportError",
     "evalue": "cannot import name np_utils",
     "output_type": "error",
     "traceback": [
      "\u001b[0;31m---------------------------------------------------------------------------\u001b[0m",
      "\u001b[0;31mImportError\u001b[0m                               Traceback (most recent call last)",
      "\u001b[0;32m<ipython-input-29-443112368ebb>\u001b[0m in \u001b[0;36m<module>\u001b[0;34m()\u001b[0m\n\u001b[0;32m----> 1\u001b[0;31m \u001b[0;32mfrom\u001b[0m \u001b[0mkeras\u001b[0m\u001b[0;34m.\u001b[0m\u001b[0mlayers\u001b[0m \u001b[0;32mimport\u001b[0m \u001b[0mDense\u001b[0m\u001b[0;34m,\u001b[0m \u001b[0mInput\u001b[0m\u001b[0;34m\u001b[0m\u001b[0m\n\u001b[0m\u001b[1;32m      2\u001b[0m \u001b[0;32mfrom\u001b[0m \u001b[0mkeras\u001b[0m\u001b[0;34m.\u001b[0m\u001b[0mmodels\u001b[0m \u001b[0;32mimport\u001b[0m \u001b[0mModel\u001b[0m\u001b[0;34m\u001b[0m\u001b[0m\n",
      "\u001b[0;32m/net/if2/ks6cq/public_html/vqa/keras2/local/lib/python2.7/site-packages/keras/__init__.py\u001b[0m in \u001b[0;36m<module>\u001b[0;34m()\u001b[0m\n\u001b[1;32m      1\u001b[0m \u001b[0;32mfrom\u001b[0m \u001b[0m__future__\u001b[0m \u001b[0;32mimport\u001b[0m \u001b[0mabsolute_import\u001b[0m\u001b[0;34m\u001b[0m\u001b[0m\n\u001b[1;32m      2\u001b[0m \u001b[0;34m\u001b[0m\u001b[0m\n\u001b[0;32m----> 3\u001b[0;31m \u001b[0;32mfrom\u001b[0m \u001b[0;34m.\u001b[0m \u001b[0;32mimport\u001b[0m \u001b[0mutils\u001b[0m\u001b[0;34m\u001b[0m\u001b[0m\n\u001b[0m\u001b[1;32m      4\u001b[0m \u001b[0;32mfrom\u001b[0m \u001b[0;34m.\u001b[0m \u001b[0;32mimport\u001b[0m \u001b[0mactivations\u001b[0m\u001b[0;34m\u001b[0m\u001b[0m\n\u001b[1;32m      5\u001b[0m \u001b[0;32mfrom\u001b[0m \u001b[0;34m.\u001b[0m \u001b[0;32mimport\u001b[0m \u001b[0mapplications\u001b[0m\u001b[0;34m\u001b[0m\u001b[0m\n",
      "\u001b[0;32m/net/if2/ks6cq/public_html/vqa/keras2/local/lib/python2.7/site-packages/keras/utils/__init__.py\u001b[0m in \u001b[0;36m<module>\u001b[0;34m()\u001b[0m\n\u001b[1;32m      1\u001b[0m \u001b[0;32mfrom\u001b[0m \u001b[0m__future__\u001b[0m \u001b[0;32mimport\u001b[0m \u001b[0mabsolute_import\u001b[0m\u001b[0;34m\u001b[0m\u001b[0m\n\u001b[0;32m----> 2\u001b[0;31m \u001b[0;32mfrom\u001b[0m \u001b[0;34m.\u001b[0m \u001b[0;32mimport\u001b[0m \u001b[0mnp_utils\u001b[0m\u001b[0;34m\u001b[0m\u001b[0m\n\u001b[0m\u001b[1;32m      3\u001b[0m \u001b[0;32mfrom\u001b[0m \u001b[0;34m.\u001b[0m \u001b[0;32mimport\u001b[0m \u001b[0mgeneric_utils\u001b[0m\u001b[0;34m\u001b[0m\u001b[0m\n\u001b[1;32m      4\u001b[0m \u001b[0;32mfrom\u001b[0m \u001b[0;34m.\u001b[0m \u001b[0;32mimport\u001b[0m \u001b[0mdata_utils\u001b[0m\u001b[0;34m\u001b[0m\u001b[0m\n\u001b[1;32m      5\u001b[0m \u001b[0;32mfrom\u001b[0m \u001b[0;34m.\u001b[0m \u001b[0;32mimport\u001b[0m \u001b[0mio_utils\u001b[0m\u001b[0;34m\u001b[0m\u001b[0m\n",
      "\u001b[0;31mImportError\u001b[0m: cannot import name np_utils"
     ]
    }
   ],
   "source": [
    "from keras.layers import Dense, Input\n",
    "from keras.models import Model"
   ]
  },
  {
   "cell_type": "code",
   "execution_count": null,
   "metadata": {
    "collapsed": true
   },
   "outputs": [],
   "source": [
    "avg_input = Input(shape=(x_train.shape[1],))\n",
    "hidden = Dense(512, activation='relu')(avg_input)\n",
    "prediction = Dense(num_genres, activation='sigmoid')(hidden)\n",
    "\n",
    "model = Model(inputs=avg_input, outputs=prediction)"
   ]
  },
  {
   "cell_type": "code",
   "execution_count": null,
   "metadata": {
    "collapsed": true
   },
   "outputs": [],
   "source": [
    "model.compile(loss='binary_crossentropy', optimizer='rmsprop', metrics=['accuracy'])"
   ]
  },
  {
   "cell_type": "code",
   "execution_count": 4,
   "metadata": {
    "collapsed": true
   },
   "outputs": [],
   "source": [
    "import sklearn"
   ]
  },
  {
   "cell_type": "code",
   "execution_count": 6,
   "metadata": {
    "collapsed": false
   },
   "outputs": [
    {
     "data": {
      "text/plain": [
       "'ddd'"
      ]
     },
     "execution_count": 6,
     "metadata": {},
     "output_type": "execute_result"
    }
   ],
   "source": [
    "'ddD'.lower()"
   ]
  },
  {
   "cell_type": "code",
   "execution_count": null,
   "metadata": {
    "collapsed": true
   },
   "outputs": [],
   "source": []
  }
 ],
 "metadata": {
  "kernelspec": {
   "display_name": "Python 2",
   "language": "python",
   "name": "python2"
  },
  "language_info": {
   "codemirror_mode": {
    "name": "ipython",
    "version": 2
   },
   "file_extension": ".py",
   "mimetype": "text/x-python",
   "name": "python",
   "nbconvert_exporter": "python",
   "pygments_lexer": "ipython2",
   "version": "2.7.13"
  }
 },
 "nbformat": 4,
 "nbformat_minor": 2
}
